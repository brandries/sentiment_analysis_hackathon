{
 "cells": [
  {
   "cell_type": "code",
   "execution_count": 1,
   "metadata": {},
   "outputs": [
    {
     "name": "stderr",
     "output_type": "stream",
     "text": [
      "Using TensorFlow backend.\n"
     ]
    }
   ],
   "source": [
    "import pandas as pd\n",
    "import numpy as np\n",
    "import matplotlib.pyplot as plt\n",
    "import nltk\n",
    "import keras\n",
    "from nltk.tokenize import TreebankWordTokenizer\n",
    "from sklearn.feature_extraction.text import TfidfVectorizer\n",
    "from sklearn.model_selection import train_test_split\n",
    "from keras.models import Sequential\n",
    "from keras.layers import Dense\n",
    "from keras.optimizers import Adam\n",
    "import keras.backend as K\n",
    "from sklearn.externals import joblib\n",
    "from keras.callbacks import EarlyStopping"
   ]
  },
  {
   "cell_type": "code",
   "execution_count": 2,
   "metadata": {},
   "outputs": [],
   "source": [
    "feat = pd.read_csv('train_data.csv')\n",
    "targets = pd.read_csv('train_reponse.csv')"
   ]
  },
  {
   "cell_type": "code",
   "execution_count": 3,
   "metadata": {},
   "outputs": [],
   "source": [
    "df = feat.merge(targets)"
   ]
  },
  {
   "cell_type": "code",
   "execution_count": 4,
   "metadata": {
    "scrolled": true
   },
   "outputs": [
    {
     "data": {
      "text/html": [
       "<div>\n",
       "<style scoped>\n",
       "    .dataframe tbody tr th:only-of-type {\n",
       "        vertical-align: middle;\n",
       "    }\n",
       "\n",
       "    .dataframe tbody tr th {\n",
       "        vertical-align: top;\n",
       "    }\n",
       "\n",
       "    .dataframe thead th {\n",
       "        text-align: right;\n",
       "    }\n",
       "</style>\n",
       "<table border=\"1\" class=\"dataframe\">\n",
       "  <thead>\n",
       "    <tr style=\"text-align: right;\">\n",
       "      <th></th>\n",
       "      <th>review_id</th>\n",
       "      <th>text</th>\n",
       "      <th>stars</th>\n",
       "    </tr>\n",
       "  </thead>\n",
       "  <tbody>\n",
       "    <tr>\n",
       "      <th>0</th>\n",
       "      <td>CuAG9zG2VDdd4hPGMip2Xg</td>\n",
       "      <td>Deeeelicious!\\n\\nFirst, the upstairs is a pret...</td>\n",
       "      <td>4</td>\n",
       "    </tr>\n",
       "    <tr>\n",
       "      <th>1</th>\n",
       "      <td>oipDuz40GWRdhFI_ck0hmQ</td>\n",
       "      <td>Just had a baby!\\n\\n...about a month ago. Had ...</td>\n",
       "      <td>5</td>\n",
       "    </tr>\n",
       "    <tr>\n",
       "      <th>2</th>\n",
       "      <td>k7IdlhwtZ2evNJOkaKmPoQ</td>\n",
       "      <td>Since I was staying in the hotel we had a $25 ...</td>\n",
       "      <td>3</td>\n",
       "    </tr>\n",
       "    <tr>\n",
       "      <th>3</th>\n",
       "      <td>xg1qeM_nYE0r0PYBZQedzg</td>\n",
       "      <td>I can't believe that I haven't reviewed this s...</td>\n",
       "      <td>5</td>\n",
       "    </tr>\n",
       "    <tr>\n",
       "      <th>4</th>\n",
       "      <td>u3eX3oMz3hC2KfX3mdKBlA</td>\n",
       "      <td>Mmmm so much choice and it's all completely aw...</td>\n",
       "      <td>5</td>\n",
       "    </tr>\n",
       "    <tr>\n",
       "      <th>5</th>\n",
       "      <td>weJ-rLGzWKTIzhyDgomLSA</td>\n",
       "      <td>tried to go today at lunchtime:  but didn't re...</td>\n",
       "      <td>3</td>\n",
       "    </tr>\n",
       "    <tr>\n",
       "      <th>6</th>\n",
       "      <td>6ZCeScwRyLiupX-7iOtX4w</td>\n",
       "      <td>To me, this is the BEST Sushi place in town an...</td>\n",
       "      <td>5</td>\n",
       "    </tr>\n",
       "    <tr>\n",
       "      <th>7</th>\n",
       "      <td>ePrwqwZ0w8RmeMcxym3EpA</td>\n",
       "      <td>i miss this place so much, it's insanity. \\n\\n...</td>\n",
       "      <td>5</td>\n",
       "    </tr>\n",
       "    <tr>\n",
       "      <th>8</th>\n",
       "      <td>5eGl3SQ_9F6pf7MAZ4JykQ</td>\n",
       "      <td>Love San Tan Village. It's conveniently locate...</td>\n",
       "      <td>4</td>\n",
       "    </tr>\n",
       "    <tr>\n",
       "      <th>9</th>\n",
       "      <td>ZBxeVSGhxgS00_8Kyi9u5g</td>\n",
       "      <td>no hanky panky here.. the idea of these places...</td>\n",
       "      <td>5</td>\n",
       "    </tr>\n",
       "    <tr>\n",
       "      <th>10</th>\n",
       "      <td>oO4XuvWU86GSutZ8jsHvhg</td>\n",
       "      <td>Throughout this review I've debated between 3 ...</td>\n",
       "      <td>3</td>\n",
       "    </tr>\n",
       "    <tr>\n",
       "      <th>11</th>\n",
       "      <td>bRqN_gKkg2LUb1-fYuy3HA</td>\n",
       "      <td>I've stayed in just about every hotel in Vegas...</td>\n",
       "      <td>5</td>\n",
       "    </tr>\n",
       "    <tr>\n",
       "      <th>12</th>\n",
       "      <td>SxZB2EtQCoCD7OrvIjf1ag</td>\n",
       "      <td>Food is amazing and so is the ambiance - elega...</td>\n",
       "      <td>5</td>\n",
       "    </tr>\n",
       "    <tr>\n",
       "      <th>13</th>\n",
       "      <td>vFCW78zM4h1oMKx3dyR74A</td>\n",
       "      <td>Never again...went in for a part and have them...</td>\n",
       "      <td>1</td>\n",
       "    </tr>\n",
       "    <tr>\n",
       "      <th>14</th>\n",
       "      <td>KyT9GhQqdaT1Odlk_PtEcA</td>\n",
       "      <td>I believe the cronuts are the best product the...</td>\n",
       "      <td>3</td>\n",
       "    </tr>\n",
       "    <tr>\n",
       "      <th>15</th>\n",
       "      <td>_hQywFfTkt0gWKRs5-qhDQ</td>\n",
       "      <td>They have a great selection but the prices are...</td>\n",
       "      <td>3</td>\n",
       "    </tr>\n",
       "    <tr>\n",
       "      <th>16</th>\n",
       "      <td>v95rpzwruYABipj8lUNGjA</td>\n",
       "      <td>If I could give this please more starts I easi...</td>\n",
       "      <td>5</td>\n",
       "    </tr>\n",
       "    <tr>\n",
       "      <th>17</th>\n",
       "      <td>ElMwoPpO-CMIMhsxxzxMaw</td>\n",
       "      <td>I am officially 5 lbs heavier than I was 2 hou...</td>\n",
       "      <td>4</td>\n",
       "    </tr>\n",
       "    <tr>\n",
       "      <th>18</th>\n",
       "      <td>steyNxuhIj9KcSR6F15tFA</td>\n",
       "      <td>Ok Yelpers... this is the epitome of  value, a...</td>\n",
       "      <td>5</td>\n",
       "    </tr>\n",
       "    <tr>\n",
       "      <th>19</th>\n",
       "      <td>JW5IS4QEFX_IqoslGO09Gg</td>\n",
       "      <td>I love this Barnes and Noble. It is always nea...</td>\n",
       "      <td>4</td>\n",
       "    </tr>\n",
       "    <tr>\n",
       "      <th>20</th>\n",
       "      <td>uyqsR38rRI2FHzOtS3pDFA</td>\n",
       "      <td>Weera Thai is a wonderful Thai restaurant loca...</td>\n",
       "      <td>4</td>\n",
       "    </tr>\n",
       "    <tr>\n",
       "      <th>21</th>\n",
       "      <td>HSgqiO0Sk_PcP6wjiDJe5A</td>\n",
       "      <td>We have stayed at this hotel once but we will ...</td>\n",
       "      <td>5</td>\n",
       "    </tr>\n",
       "    <tr>\n",
       "      <th>22</th>\n",
       "      <td>NTtQChYZvKFq8KcmtjukQw</td>\n",
       "      <td>It's fun to say, isn't it? Go ahead, it just r...</td>\n",
       "      <td>5</td>\n",
       "    </tr>\n",
       "    <tr>\n",
       "      <th>23</th>\n",
       "      <td>8w6WtmcQJ764Gh5eJQe7BQ</td>\n",
       "      <td>So many hours clocked in here I can't begin to...</td>\n",
       "      <td>4</td>\n",
       "    </tr>\n",
       "    <tr>\n",
       "      <th>24</th>\n",
       "      <td>BOvaxYX6nNKiCo76kbOAZQ</td>\n",
       "      <td>The service was great! Horchata was awesome an...</td>\n",
       "      <td>5</td>\n",
       "    </tr>\n",
       "    <tr>\n",
       "      <th>25</th>\n",
       "      <td>lFMiLSx2-hRHYUuMWRCeDg</td>\n",
       "      <td>I like the set up. Staff is friendly. Kind of ...</td>\n",
       "      <td>4</td>\n",
       "    </tr>\n",
       "    <tr>\n",
       "      <th>26</th>\n",
       "      <td>d0-BMyIQlTRSKm20HMastg</td>\n",
       "      <td>Ordered for delivery and never received my ord...</td>\n",
       "      <td>1</td>\n",
       "    </tr>\n",
       "    <tr>\n",
       "      <th>27</th>\n",
       "      <td>bNEJ16TsKiZF0Uan6Kf2pQ</td>\n",
       "      <td>Quick service. The employees actually seem hap...</td>\n",
       "      <td>4</td>\n",
       "    </tr>\n",
       "    <tr>\n",
       "      <th>28</th>\n",
       "      <td>gVF2aZkBEGIsazavsv85EQ</td>\n",
       "      <td>Stopped in here just for some drinks and apps ...</td>\n",
       "      <td>3</td>\n",
       "    </tr>\n",
       "    <tr>\n",
       "      <th>29</th>\n",
       "      <td>JwfVOuJtZo0o5bheTYTtNQ</td>\n",
       "      <td>I've only just now read the reviews here for t...</td>\n",
       "      <td>1</td>\n",
       "    </tr>\n",
       "    <tr>\n",
       "      <th>...</th>\n",
       "      <td>...</td>\n",
       "      <td>...</td>\n",
       "      <td>...</td>\n",
       "    </tr>\n",
       "    <tr>\n",
       "      <th>499970</th>\n",
       "      <td>hcONsp7g0Vx8QweEmjWlVA</td>\n",
       "      <td>I got to get my dream sandwich the other day, ...</td>\n",
       "      <td>5</td>\n",
       "    </tr>\n",
       "    <tr>\n",
       "      <th>499971</th>\n",
       "      <td>4swbQDfsYbMFvdBjikB0Tw</td>\n",
       "      <td>Love to bowl here! Great clean lanes and well ...</td>\n",
       "      <td>4</td>\n",
       "    </tr>\n",
       "    <tr>\n",
       "      <th>499972</th>\n",
       "      <td>suBzPM9CK7ylVMbsBpxctg</td>\n",
       "      <td>Horrible place to go.. It's small and the loca...</td>\n",
       "      <td>1</td>\n",
       "    </tr>\n",
       "    <tr>\n",
       "      <th>499973</th>\n",
       "      <td>58VHxSwBRGWZetFulStx0w</td>\n",
       "      <td>steak &amp; eggs!\\n\\nsteak and eggs for $3.99? i'm...</td>\n",
       "      <td>4</td>\n",
       "    </tr>\n",
       "    <tr>\n",
       "      <th>499974</th>\n",
       "      <td>CLfogYERjL7mQpvYIvFuTg</td>\n",
       "      <td>Good fish &amp; chips, good service and nice locat...</td>\n",
       "      <td>4</td>\n",
       "    </tr>\n",
       "    <tr>\n",
       "      <th>499975</th>\n",
       "      <td>JdiYcbkRtqvpUNiZARzKJQ</td>\n",
       "      <td>I have gone to this location when it was Angel...</td>\n",
       "      <td>4</td>\n",
       "    </tr>\n",
       "    <tr>\n",
       "      <th>499976</th>\n",
       "      <td>6inDiEE93CvraH5IKc9iFg</td>\n",
       "      <td>They have these in the South Bay where I grew ...</td>\n",
       "      <td>5</td>\n",
       "    </tr>\n",
       "    <tr>\n",
       "      <th>499977</th>\n",
       "      <td>glWL6TJreX-pp60AZCpubw</td>\n",
       "      <td>My friend and I went in here on a Sunday after...</td>\n",
       "      <td>4</td>\n",
       "    </tr>\n",
       "    <tr>\n",
       "      <th>499978</th>\n",
       "      <td>sXhzUycmR39ewl4Zgpm6qw</td>\n",
       "      <td>This show was a blast! They have stunning visu...</td>\n",
       "      <td>4</td>\n",
       "    </tr>\n",
       "    <tr>\n",
       "      <th>499979</th>\n",
       "      <td>nsWD_xA8rb7wUG766ZwPqg</td>\n",
       "      <td>The frozen hot chocolate is PERFECT during sum...</td>\n",
       "      <td>4</td>\n",
       "    </tr>\n",
       "    <tr>\n",
       "      <th>499980</th>\n",
       "      <td>JlxnQ7uFm4gmoKeovGFlKw</td>\n",
       "      <td>lovely spot to grab a late night dinner for tw...</td>\n",
       "      <td>4</td>\n",
       "    </tr>\n",
       "    <tr>\n",
       "      <th>499981</th>\n",
       "      <td>3v7EWCJfwDHK-cX5Jc5aCw</td>\n",
       "      <td>I love Jupiter's pizza. Lots of different exce...</td>\n",
       "      <td>4</td>\n",
       "    </tr>\n",
       "    <tr>\n",
       "      <th>499982</th>\n",
       "      <td>AXlEOyRuFvgeekUMpgYjcg</td>\n",
       "      <td>I feel compelled to write an additional review...</td>\n",
       "      <td>4</td>\n",
       "    </tr>\n",
       "    <tr>\n",
       "      <th>499983</th>\n",
       "      <td>ssedthCVnH2TQH_KihiDMA</td>\n",
       "      <td>This Fry's makes me feel like I am at the Ritz...</td>\n",
       "      <td>5</td>\n",
       "    </tr>\n",
       "    <tr>\n",
       "      <th>499984</th>\n",
       "      <td>2GRtrWFqMLKISybGF09BXw</td>\n",
       "      <td>It's been 3 days since I ate here and I'm stil...</td>\n",
       "      <td>4</td>\n",
       "    </tr>\n",
       "    <tr>\n",
       "      <th>499985</th>\n",
       "      <td>d83TLLObIsEHAiIoEUJGMA</td>\n",
       "      <td>Pretty bad. Wait staff nice and friendly but t...</td>\n",
       "      <td>1</td>\n",
       "    </tr>\n",
       "    <tr>\n",
       "      <th>499986</th>\n",
       "      <td>VfHPqcC-vPJJH23oZfFhyw</td>\n",
       "      <td>On my last day of my boys bachelor party we ca...</td>\n",
       "      <td>3</td>\n",
       "    </tr>\n",
       "    <tr>\n",
       "      <th>499987</th>\n",
       "      <td>GI0Y4_G7vLVMqDK19N9U7Q</td>\n",
       "      <td>Wow a lot of bad experiences for people at thi...</td>\n",
       "      <td>4</td>\n",
       "    </tr>\n",
       "    <tr>\n",
       "      <th>499988</th>\n",
       "      <td>UVW7aS6zVQxfORyOpPtgkg</td>\n",
       "      <td>Tucked away in a sort of strip mall (next to R...</td>\n",
       "      <td>5</td>\n",
       "    </tr>\n",
       "    <tr>\n",
       "      <th>499989</th>\n",
       "      <td>3Zb0qonngSUgKZgVqk92Lg</td>\n",
       "      <td>The service here is terrible.  The place was e...</td>\n",
       "      <td>1</td>\n",
       "    </tr>\n",
       "    <tr>\n",
       "      <th>499990</th>\n",
       "      <td>vF7xtFrbANXLT90W1m_2Ig</td>\n",
       "      <td>Saying this hotel is below average is kind. Th...</td>\n",
       "      <td>1</td>\n",
       "    </tr>\n",
       "    <tr>\n",
       "      <th>499991</th>\n",
       "      <td>XR4og1wnVTg7Eos40CMPMg</td>\n",
       "      <td>DO NOT STAY HERE!!!!!\\n\\nHorrible experience l...</td>\n",
       "      <td>1</td>\n",
       "    </tr>\n",
       "    <tr>\n",
       "      <th>499992</th>\n",
       "      <td>I6EJioeNTydzot32dRnOxA</td>\n",
       "      <td>Over priced and bad service. Last time I ate t...</td>\n",
       "      <td>2</td>\n",
       "    </tr>\n",
       "    <tr>\n",
       "      <th>499993</th>\n",
       "      <td>_eegXWqtyc9k0RAEVnpIyg</td>\n",
       "      <td>Popped in to check out the happy hour specials...</td>\n",
       "      <td>2</td>\n",
       "    </tr>\n",
       "    <tr>\n",
       "      <th>499994</th>\n",
       "      <td>-v2QxF9JWbHRG8D-TiYUcA</td>\n",
       "      <td>I like to come during happy hour. They have a ...</td>\n",
       "      <td>4</td>\n",
       "    </tr>\n",
       "    <tr>\n",
       "      <th>499995</th>\n",
       "      <td>bFLRSIZl0K3modrtCGkmpA</td>\n",
       "      <td>I went here a short time ago with a social net...</td>\n",
       "      <td>4</td>\n",
       "    </tr>\n",
       "    <tr>\n",
       "      <th>499996</th>\n",
       "      <td>kS_zIB1Ux1XyO69SDZI0tA</td>\n",
       "      <td>Fresh and yummy.  I nice change from Pho</td>\n",
       "      <td>4</td>\n",
       "    </tr>\n",
       "    <tr>\n",
       "      <th>499997</th>\n",
       "      <td>cwlrcezZ3N13GcULbzM1fA</td>\n",
       "      <td>I love there thin crust pizza... They would wi...</td>\n",
       "      <td>5</td>\n",
       "    </tr>\n",
       "    <tr>\n",
       "      <th>499998</th>\n",
       "      <td>mEBoraTE3vdrw_gW4HVdNQ</td>\n",
       "      <td>So faer this has been the best shop I have bee...</td>\n",
       "      <td>5</td>\n",
       "    </tr>\n",
       "    <tr>\n",
       "      <th>499999</th>\n",
       "      <td>an2g7NYS0frN1KBT1Uc46g</td>\n",
       "      <td>I would stay away from this Store. They do not...</td>\n",
       "      <td>1</td>\n",
       "    </tr>\n",
       "  </tbody>\n",
       "</table>\n",
       "<p>500000 rows × 3 columns</p>\n",
       "</div>"
      ],
      "text/plain": [
       "                     review_id  \\\n",
       "0       CuAG9zG2VDdd4hPGMip2Xg   \n",
       "1       oipDuz40GWRdhFI_ck0hmQ   \n",
       "2       k7IdlhwtZ2evNJOkaKmPoQ   \n",
       "3       xg1qeM_nYE0r0PYBZQedzg   \n",
       "4       u3eX3oMz3hC2KfX3mdKBlA   \n",
       "5       weJ-rLGzWKTIzhyDgomLSA   \n",
       "6       6ZCeScwRyLiupX-7iOtX4w   \n",
       "7       ePrwqwZ0w8RmeMcxym3EpA   \n",
       "8       5eGl3SQ_9F6pf7MAZ4JykQ   \n",
       "9       ZBxeVSGhxgS00_8Kyi9u5g   \n",
       "10      oO4XuvWU86GSutZ8jsHvhg   \n",
       "11      bRqN_gKkg2LUb1-fYuy3HA   \n",
       "12      SxZB2EtQCoCD7OrvIjf1ag   \n",
       "13      vFCW78zM4h1oMKx3dyR74A   \n",
       "14      KyT9GhQqdaT1Odlk_PtEcA   \n",
       "15      _hQywFfTkt0gWKRs5-qhDQ   \n",
       "16      v95rpzwruYABipj8lUNGjA   \n",
       "17      ElMwoPpO-CMIMhsxxzxMaw   \n",
       "18      steyNxuhIj9KcSR6F15tFA   \n",
       "19      JW5IS4QEFX_IqoslGO09Gg   \n",
       "20      uyqsR38rRI2FHzOtS3pDFA   \n",
       "21      HSgqiO0Sk_PcP6wjiDJe5A   \n",
       "22      NTtQChYZvKFq8KcmtjukQw   \n",
       "23      8w6WtmcQJ764Gh5eJQe7BQ   \n",
       "24      BOvaxYX6nNKiCo76kbOAZQ   \n",
       "25      lFMiLSx2-hRHYUuMWRCeDg   \n",
       "26      d0-BMyIQlTRSKm20HMastg   \n",
       "27      bNEJ16TsKiZF0Uan6Kf2pQ   \n",
       "28      gVF2aZkBEGIsazavsv85EQ   \n",
       "29      JwfVOuJtZo0o5bheTYTtNQ   \n",
       "...                        ...   \n",
       "499970  hcONsp7g0Vx8QweEmjWlVA   \n",
       "499971  4swbQDfsYbMFvdBjikB0Tw   \n",
       "499972  suBzPM9CK7ylVMbsBpxctg   \n",
       "499973  58VHxSwBRGWZetFulStx0w   \n",
       "499974  CLfogYERjL7mQpvYIvFuTg   \n",
       "499975  JdiYcbkRtqvpUNiZARzKJQ   \n",
       "499976  6inDiEE93CvraH5IKc9iFg   \n",
       "499977  glWL6TJreX-pp60AZCpubw   \n",
       "499978  sXhzUycmR39ewl4Zgpm6qw   \n",
       "499979  nsWD_xA8rb7wUG766ZwPqg   \n",
       "499980  JlxnQ7uFm4gmoKeovGFlKw   \n",
       "499981  3v7EWCJfwDHK-cX5Jc5aCw   \n",
       "499982  AXlEOyRuFvgeekUMpgYjcg   \n",
       "499983  ssedthCVnH2TQH_KihiDMA   \n",
       "499984  2GRtrWFqMLKISybGF09BXw   \n",
       "499985  d83TLLObIsEHAiIoEUJGMA   \n",
       "499986  VfHPqcC-vPJJH23oZfFhyw   \n",
       "499987  GI0Y4_G7vLVMqDK19N9U7Q   \n",
       "499988  UVW7aS6zVQxfORyOpPtgkg   \n",
       "499989  3Zb0qonngSUgKZgVqk92Lg   \n",
       "499990  vF7xtFrbANXLT90W1m_2Ig   \n",
       "499991  XR4og1wnVTg7Eos40CMPMg   \n",
       "499992  I6EJioeNTydzot32dRnOxA   \n",
       "499993  _eegXWqtyc9k0RAEVnpIyg   \n",
       "499994  -v2QxF9JWbHRG8D-TiYUcA   \n",
       "499995  bFLRSIZl0K3modrtCGkmpA   \n",
       "499996  kS_zIB1Ux1XyO69SDZI0tA   \n",
       "499997  cwlrcezZ3N13GcULbzM1fA   \n",
       "499998  mEBoraTE3vdrw_gW4HVdNQ   \n",
       "499999  an2g7NYS0frN1KBT1Uc46g   \n",
       "\n",
       "                                                     text  stars  \n",
       "0       Deeeelicious!\\n\\nFirst, the upstairs is a pret...      4  \n",
       "1       Just had a baby!\\n\\n...about a month ago. Had ...      5  \n",
       "2       Since I was staying in the hotel we had a $25 ...      3  \n",
       "3       I can't believe that I haven't reviewed this s...      5  \n",
       "4       Mmmm so much choice and it's all completely aw...      5  \n",
       "5       tried to go today at lunchtime:  but didn't re...      3  \n",
       "6       To me, this is the BEST Sushi place in town an...      5  \n",
       "7       i miss this place so much, it's insanity. \\n\\n...      5  \n",
       "8       Love San Tan Village. It's conveniently locate...      4  \n",
       "9       no hanky panky here.. the idea of these places...      5  \n",
       "10      Throughout this review I've debated between 3 ...      3  \n",
       "11      I've stayed in just about every hotel in Vegas...      5  \n",
       "12      Food is amazing and so is the ambiance - elega...      5  \n",
       "13      Never again...went in for a part and have them...      1  \n",
       "14      I believe the cronuts are the best product the...      3  \n",
       "15      They have a great selection but the prices are...      3  \n",
       "16      If I could give this please more starts I easi...      5  \n",
       "17      I am officially 5 lbs heavier than I was 2 hou...      4  \n",
       "18      Ok Yelpers... this is the epitome of  value, a...      5  \n",
       "19      I love this Barnes and Noble. It is always nea...      4  \n",
       "20      Weera Thai is a wonderful Thai restaurant loca...      4  \n",
       "21      We have stayed at this hotel once but we will ...      5  \n",
       "22      It's fun to say, isn't it? Go ahead, it just r...      5  \n",
       "23      So many hours clocked in here I can't begin to...      4  \n",
       "24      The service was great! Horchata was awesome an...      5  \n",
       "25      I like the set up. Staff is friendly. Kind of ...      4  \n",
       "26      Ordered for delivery and never received my ord...      1  \n",
       "27      Quick service. The employees actually seem hap...      4  \n",
       "28      Stopped in here just for some drinks and apps ...      3  \n",
       "29      I've only just now read the reviews here for t...      1  \n",
       "...                                                   ...    ...  \n",
       "499970  I got to get my dream sandwich the other day, ...      5  \n",
       "499971  Love to bowl here! Great clean lanes and well ...      4  \n",
       "499972  Horrible place to go.. It's small and the loca...      1  \n",
       "499973  steak & eggs!\\n\\nsteak and eggs for $3.99? i'm...      4  \n",
       "499974  Good fish & chips, good service and nice locat...      4  \n",
       "499975  I have gone to this location when it was Angel...      4  \n",
       "499976  They have these in the South Bay where I grew ...      5  \n",
       "499977  My friend and I went in here on a Sunday after...      4  \n",
       "499978  This show was a blast! They have stunning visu...      4  \n",
       "499979  The frozen hot chocolate is PERFECT during sum...      4  \n",
       "499980  lovely spot to grab a late night dinner for tw...      4  \n",
       "499981  I love Jupiter's pizza. Lots of different exce...      4  \n",
       "499982  I feel compelled to write an additional review...      4  \n",
       "499983  This Fry's makes me feel like I am at the Ritz...      5  \n",
       "499984  It's been 3 days since I ate here and I'm stil...      4  \n",
       "499985  Pretty bad. Wait staff nice and friendly but t...      1  \n",
       "499986  On my last day of my boys bachelor party we ca...      3  \n",
       "499987  Wow a lot of bad experiences for people at thi...      4  \n",
       "499988  Tucked away in a sort of strip mall (next to R...      5  \n",
       "499989  The service here is terrible.  The place was e...      1  \n",
       "499990  Saying this hotel is below average is kind. Th...      1  \n",
       "499991  DO NOT STAY HERE!!!!!\\n\\nHorrible experience l...      1  \n",
       "499992  Over priced and bad service. Last time I ate t...      2  \n",
       "499993  Popped in to check out the happy hour specials...      2  \n",
       "499994  I like to come during happy hour. They have a ...      4  \n",
       "499995  I went here a short time ago with a social net...      4  \n",
       "499996           Fresh and yummy.  I nice change from Pho      4  \n",
       "499997  I love there thin crust pizza... They would wi...      5  \n",
       "499998  So faer this has been the best shop I have bee...      5  \n",
       "499999  I would stay away from this Store. They do not...      1  \n",
       "\n",
       "[500000 rows x 3 columns]"
      ]
     },
     "execution_count": 4,
     "metadata": {},
     "output_type": "execute_result"
    }
   ],
   "source": [
    "df"
   ]
  },
  {
   "cell_type": "code",
   "execution_count": 5,
   "metadata": {},
   "outputs": [],
   "source": [
    "X = pd.DataFrame(df['text'])\n",
    "y = df['stars']"
   ]
  },
  {
   "cell_type": "code",
   "execution_count": 6,
   "metadata": {},
   "outputs": [],
   "source": [
    "vect = TfidfVectorizer(max_features=10000)"
   ]
  },
  {
   "cell_type": "code",
   "execution_count": 8,
   "metadata": {},
   "outputs": [],
   "source": [
    "X = vect.fit_transform(X['text'])"
   ]
  },
  {
   "cell_type": "code",
   "execution_count": 23,
   "metadata": {},
   "outputs": [
    {
     "data": {
      "text/plain": [
       "['vector.pkl']"
      ]
     },
     "execution_count": 23,
     "metadata": {},
     "output_type": "execute_result"
    }
   ],
   "source": [
    "joblib.dump(vect, 'vector.pkl')"
   ]
  },
  {
   "cell_type": "code",
   "execution_count": 9,
   "metadata": {},
   "outputs": [],
   "source": [
    "y = pd.get_dummies(y)\n",
    "y.columns = ['stars_{}'.format(x) for x in y.columns]"
   ]
  },
  {
   "cell_type": "code",
   "execution_count": 10,
   "metadata": {},
   "outputs": [
    {
     "data": {
      "text/html": [
       "<div>\n",
       "<style scoped>\n",
       "    .dataframe tbody tr th:only-of-type {\n",
       "        vertical-align: middle;\n",
       "    }\n",
       "\n",
       "    .dataframe tbody tr th {\n",
       "        vertical-align: top;\n",
       "    }\n",
       "\n",
       "    .dataframe thead th {\n",
       "        text-align: right;\n",
       "    }\n",
       "</style>\n",
       "<table border=\"1\" class=\"dataframe\">\n",
       "  <thead>\n",
       "    <tr style=\"text-align: right;\">\n",
       "      <th></th>\n",
       "      <th>stars_1</th>\n",
       "      <th>stars_2</th>\n",
       "      <th>stars_3</th>\n",
       "      <th>stars_4</th>\n",
       "      <th>stars_5</th>\n",
       "    </tr>\n",
       "  </thead>\n",
       "  <tbody>\n",
       "    <tr>\n",
       "      <th>0</th>\n",
       "      <td>0</td>\n",
       "      <td>0</td>\n",
       "      <td>0</td>\n",
       "      <td>1</td>\n",
       "      <td>0</td>\n",
       "    </tr>\n",
       "    <tr>\n",
       "      <th>1</th>\n",
       "      <td>0</td>\n",
       "      <td>0</td>\n",
       "      <td>0</td>\n",
       "      <td>0</td>\n",
       "      <td>1</td>\n",
       "    </tr>\n",
       "    <tr>\n",
       "      <th>2</th>\n",
       "      <td>0</td>\n",
       "      <td>0</td>\n",
       "      <td>1</td>\n",
       "      <td>0</td>\n",
       "      <td>0</td>\n",
       "    </tr>\n",
       "    <tr>\n",
       "      <th>3</th>\n",
       "      <td>0</td>\n",
       "      <td>0</td>\n",
       "      <td>0</td>\n",
       "      <td>0</td>\n",
       "      <td>1</td>\n",
       "    </tr>\n",
       "    <tr>\n",
       "      <th>4</th>\n",
       "      <td>0</td>\n",
       "      <td>0</td>\n",
       "      <td>0</td>\n",
       "      <td>0</td>\n",
       "      <td>1</td>\n",
       "    </tr>\n",
       "  </tbody>\n",
       "</table>\n",
       "</div>"
      ],
      "text/plain": [
       "   stars_1  stars_2  stars_3  stars_4  stars_5\n",
       "0        0        0        0        1        0\n",
       "1        0        0        0        0        1\n",
       "2        0        0        1        0        0\n",
       "3        0        0        0        0        1\n",
       "4        0        0        0        0        1"
      ]
     },
     "execution_count": 10,
     "metadata": {},
     "output_type": "execute_result"
    }
   ],
   "source": [
    "y.head()"
   ]
  },
  {
   "cell_type": "code",
   "execution_count": 11,
   "metadata": {},
   "outputs": [],
   "source": [
    "X_train, X_test, y_train, y_test = train_test_split(X, y)"
   ]
  },
  {
   "cell_type": "code",
   "execution_count": 12,
   "metadata": {},
   "outputs": [
    {
     "data": {
      "text/plain": [
       "(375000, 10000)"
      ]
     },
     "execution_count": 12,
     "metadata": {},
     "output_type": "execute_result"
    }
   ],
   "source": [
    "X_train.shape"
   ]
  },
  {
   "cell_type": "code",
   "execution_count": 13,
   "metadata": {},
   "outputs": [],
   "source": [
    "K.clear_session()\n",
    "model = Sequential()\n",
    "opt = Adam()\n",
    "es = EarlyStopping(patience=2)"
   ]
  },
  {
   "cell_type": "code",
   "execution_count": 15,
   "metadata": {},
   "outputs": [],
   "source": [
    "model.add(Dense(units=64, activation='tanh', input_dim=len(vect.get_feature_names())))\n",
    "model.add(Dense(4, activation='relu'))\n",
    "model.add(Dense(16, activation='relu'))\n",
    "model.add(Dense(5, activation='softmax'))\n",
    "\n",
    "model.compile(opt, loss='categorical_crossentropy')"
   ]
  },
  {
   "cell_type": "code",
   "execution_count": 14,
   "metadata": {},
   "outputs": [
    {
     "name": "stdout",
     "output_type": "stream",
     "text": [
      "_________________________________________________________________\n",
      "Layer (type)                 Output Shape              Param #   \n",
      "=================================================================\n",
      "dense_1 (Dense)              (None, 64)                640064    \n",
      "_________________________________________________________________\n",
      "dense_2 (Dense)              (None, 4)                 260       \n",
      "_________________________________________________________________\n",
      "dense_3 (Dense)              (None, 16)                80        \n",
      "_________________________________________________________________\n",
      "dense_4 (Dense)              (None, 5)                 85        \n",
      "=================================================================\n",
      "Total params: 640,489\n",
      "Trainable params: 640,489\n",
      "Non-trainable params: 0\n",
      "_________________________________________________________________\n"
     ]
    }
   ],
   "source": [
    "model.summary()"
   ]
  },
  {
   "cell_type": "code",
   "execution_count": 17,
   "metadata": {},
   "outputs": [
    {
     "name": "stdout",
     "output_type": "stream",
     "text": [
      "Train on 337500 samples, validate on 37500 samples\n",
      "Epoch 1/10\n",
      "337500/337500 [==============================] - 84s 248us/step - loss: 0.9758 - val_loss: 0.8621\n",
      "Epoch 2/10\n",
      "337500/337500 [==============================] - 54s 160us/step - loss: 0.8390 - val_loss: 0.8614\n",
      "Epoch 3/10\n",
      "337500/337500 [==============================] - 55s 163us/step - loss: 0.8245 - val_loss: 0.8599\n",
      "Epoch 4/10\n",
      "337500/337500 [==============================] - 56s 165us/step - loss: 0.8165 - val_loss: 0.8640\n",
      "Epoch 5/10\n",
      "337500/337500 [==============================] - 55s 164us/step - loss: 0.8107 - val_loss: 0.8644\n"
     ]
    },
    {
     "data": {
      "text/plain": [
       "<keras.callbacks.History at 0x25280c7d780>"
      ]
     },
     "execution_count": 17,
     "metadata": {},
     "output_type": "execute_result"
    }
   ],
   "source": [
    "model.fit(X_train, y_train, batch_size=500, epochs=10, validation_split=0.1, callbacks=[es])"
   ]
  },
  {
   "cell_type": "code",
   "execution_count": 15,
   "metadata": {},
   "outputs": [
    {
     "name": "stdout",
     "output_type": "stream",
     "text": [
      "125000/125000 [==============================] - 19s 155us/step\n"
     ]
    },
    {
     "data": {
      "text/plain": [
       "0.8167321469116211"
      ]
     },
     "execution_count": 15,
     "metadata": {},
     "output_type": "execute_result"
    }
   ],
   "source": [
    "model.evaluate(X_test, y_test)"
   ]
  },
  {
   "cell_type": "code",
   "execution_count": 16,
   "metadata": {},
   "outputs": [],
   "source": [
    "predictions = model.predict(X_test)"
   ]
  },
  {
   "cell_type": "code",
   "execution_count": 17,
   "metadata": {},
   "outputs": [],
   "source": [
    "from sklearnearn import metrics"
   ]
  },
  {
   "cell_type": "code",
   "execution_count": 20,
   "metadata": {},
   "outputs": [],
   "source": [
    "target = df['stars']"
   ]
  },
  {
   "cell_type": "code",
   "execution_count": 44,
   "metadata": {},
   "outputs": [],
   "source": [
    "pred = predictions.argmax(axis=1)+1\n",
    "target = y_test.values.argmax(axis=1)+1"
   ]
  },
  {
   "cell_type": "code",
   "execution_count": 46,
   "metadata": {},
   "outputs": [
    {
     "name": "stdout",
     "output_type": "stream",
     "text": [
      "              precision    recall  f1-score   support\n",
      "\n",
      "           1       0.71      0.79      0.75     12553\n",
      "           2       0.51      0.45      0.48     11263\n",
      "           3       0.53      0.44      0.48     17722\n",
      "           4       0.57      0.60      0.58     37163\n",
      "           5       0.74      0.77      0.76     46299\n",
      "\n",
      "   micro avg       0.64      0.64      0.64    125000\n",
      "   macro avg       0.61      0.61      0.61    125000\n",
      "weighted avg       0.64      0.64      0.64    125000\n",
      "\n"
     ]
    }
   ],
   "source": [
    "print(metrics.classification_report(target, pred))"
   ]
  },
  {
   "cell_type": "code",
   "execution_count": 47,
   "metadata": {},
   "outputs": [
    {
     "name": "stdout",
     "output_type": "stream",
     "text": [
      "[[ 9885  1758   358   284   268]\n",
      " [ 2578  5114  2443   856   272]\n",
      " [  667  2440  7797  5892   926]\n",
      " [  312   521  3455 22147 10728]\n",
      " [  393   145   622  9644 35495]]\n"
     ]
    }
   ],
   "source": [
    "print(metrics.confusion_matrix(target, pred))"
   ]
  },
  {
   "cell_type": "code",
   "execution_count": 48,
   "metadata": {},
   "outputs": [
    {
     "name": "stdout",
     "output_type": "stream",
     "text": [
      "0.643504\n"
     ]
    }
   ],
   "source": [
    "print(metrics.accuracy_score(target, pred))"
   ]
  },
  {
   "cell_type": "code",
   "execution_count": 20,
   "metadata": {},
   "outputs": [
    {
     "data": {
      "text/plain": [
       "['model.pkl']"
      ]
     },
     "execution_count": 20,
     "metadata": {},
     "output_type": "execute_result"
    }
   ],
   "source": [
    "joblib.dump(model, 'model.pkl')"
   ]
  },
  {
   "cell_type": "code",
   "execution_count": 21,
   "metadata": {},
   "outputs": [],
   "source": [
    "predictions = pd.DataFrame(predictions)\n",
    "predictions.columns = ['stars_1', 'stars_2', 'stars_3', 'stars_4', 'stars_5']"
   ]
  },
  {
   "cell_type": "code",
   "execution_count": 22,
   "metadata": {},
   "outputs": [
    {
     "data": {
      "text/html": [
       "<div>\n",
       "<style scoped>\n",
       "    .dataframe tbody tr th:only-of-type {\n",
       "        vertical-align: middle;\n",
       "    }\n",
       "\n",
       "    .dataframe tbody tr th {\n",
       "        vertical-align: top;\n",
       "    }\n",
       "\n",
       "    .dataframe thead th {\n",
       "        text-align: right;\n",
       "    }\n",
       "</style>\n",
       "<table border=\"1\" class=\"dataframe\">\n",
       "  <thead>\n",
       "    <tr style=\"text-align: right;\">\n",
       "      <th></th>\n",
       "      <th>stars_1</th>\n",
       "      <th>stars_2</th>\n",
       "      <th>stars_3</th>\n",
       "      <th>stars_4</th>\n",
       "      <th>stars_5</th>\n",
       "    </tr>\n",
       "  </thead>\n",
       "  <tbody>\n",
       "    <tr>\n",
       "      <th>0</th>\n",
       "      <td>2.619189e-03</td>\n",
       "      <td>0.018879</td>\n",
       "      <td>0.170540</td>\n",
       "      <td>0.323833</td>\n",
       "      <td>0.484129</td>\n",
       "    </tr>\n",
       "    <tr>\n",
       "      <th>1</th>\n",
       "      <td>2.313532e-07</td>\n",
       "      <td>0.000012</td>\n",
       "      <td>0.000843</td>\n",
       "      <td>0.131217</td>\n",
       "      <td>0.867928</td>\n",
       "    </tr>\n",
       "    <tr>\n",
       "      <th>2</th>\n",
       "      <td>6.319660e-01</td>\n",
       "      <td>0.284619</td>\n",
       "      <td>0.059927</td>\n",
       "      <td>0.010904</td>\n",
       "      <td>0.012584</td>\n",
       "    </tr>\n",
       "    <tr>\n",
       "      <th>3</th>\n",
       "      <td>5.687640e-06</td>\n",
       "      <td>0.000058</td>\n",
       "      <td>0.001648</td>\n",
       "      <td>0.144409</td>\n",
       "      <td>0.853878</td>\n",
       "    </tr>\n",
       "    <tr>\n",
       "      <th>4</th>\n",
       "      <td>1.446419e-05</td>\n",
       "      <td>0.000559</td>\n",
       "      <td>0.023755</td>\n",
       "      <td>0.357861</td>\n",
       "      <td>0.617811</td>\n",
       "    </tr>\n",
       "  </tbody>\n",
       "</table>\n",
       "</div>"
      ],
      "text/plain": [
       "        stars_1   stars_2   stars_3   stars_4   stars_5\n",
       "0  2.619189e-03  0.018879  0.170540  0.323833  0.484129\n",
       "1  2.313532e-07  0.000012  0.000843  0.131217  0.867928\n",
       "2  6.319660e-01  0.284619  0.059927  0.010904  0.012584\n",
       "3  5.687640e-06  0.000058  0.001648  0.144409  0.853878\n",
       "4  1.446419e-05  0.000559  0.023755  0.357861  0.617811"
      ]
     },
     "execution_count": 22,
     "metadata": {},
     "output_type": "execute_result"
    }
   ],
   "source": [
    "predictions.head()"
   ]
  }
 ],
 "metadata": {
  "kernelspec": {
   "display_name": "Python 3",
   "language": "python",
   "name": "python3"
  },
  "language_info": {
   "codemirror_mode": {
    "name": "ipython",
    "version": 3
   },
   "file_extension": ".py",
   "mimetype": "text/x-python",
   "name": "python",
   "nbconvert_exporter": "python",
   "pygments_lexer": "ipython3",
   "version": "3.6.6"
  }
 },
 "nbformat": 4,
 "nbformat_minor": 2
}
